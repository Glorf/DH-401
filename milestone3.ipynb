{
 "cells": [
  {
   "cell_type": "markdown",
   "metadata": {},
   "source": [
    "# DH-401: Digital Musicology semester project\n",
    "---------------\n",
    "## Predicting music popularity using DNNs - Milestone 3\n",
    "-------------------"
   ]
  },
  {
   "cell_type": "code",
   "execution_count": 1,
   "metadata": {},
   "outputs": [],
   "source": [
    "from zipfile import ZipFile\n",
    "from tqdm import tqdm\n",
    "\n",
    "from IPython import display\n",
    "import librosa\n",
    "\n",
    "import matplotlib.pyplot as plt\n",
    "import seaborn as sns\n",
    "import pandas as pd\n",
    "import ast\n",
    "\n",
    "import statsmodels.api as sm\n",
    "import statsmodels.formula.api as smf\n",
    "from sklearn.discriminant_analysis import LinearDiscriminantAnalysis\n",
    "from sklearn.decomposition import PCA\n",
    "\n",
    "import numpy as np\n",
    "\n",
    "from scipy.stats import chisquare\n",
    "from scipy.stats import shapiro\n",
    "\n",
    "plt.rcParams['figure.figsize'] = (17, 5)"
   ]
  },
  {
   "cell_type": "code",
   "execution_count": 2,
   "metadata": {},
   "outputs": [
    {
     "data": {
      "text/plain": [
       "(106574, 52)"
      ]
     },
     "execution_count": 2,
     "metadata": {},
     "output_type": "execute_result"
    }
   ],
   "source": [
    "# Load metadata and features.\n",
    "# Function based on: https://github.com/mdeff/fma/blob/master/utils.py\n",
    "tracks = pd.read_csv('data/fma_metadata/tracks.csv', index_col=0, header=[0, 1])\n",
    "\n",
    "COLUMNS = [('track', 'tags'), ('album', 'tags'), ('artist', 'tags'),\n",
    "            ('track', 'genres'), ('track', 'genres_all')]\n",
    "for column in COLUMNS:\n",
    "    tracks[column] = tracks[column].map(ast.literal_eval)\n",
    "\n",
    "COLUMNS = [('track', 'date_created'), ('track', 'date_recorded'),\n",
    "            ('album', 'date_created'), ('album', 'date_released'),\n",
    "            ('artist', 'date_created'), ('artist', 'active_year_begin'),\n",
    "            ('artist', 'active_year_end')]\n",
    "for column in COLUMNS:\n",
    "    tracks[column] = pd.to_datetime(tracks[column])\n",
    "\n",
    "SUBSETS = ('small', 'medium', 'large')\n",
    "try:\n",
    "    tracks['set', 'subset'] = tracks['set', 'subset'].astype(\n",
    "            'category', categories=SUBSETS, ordered=True)\n",
    "except (ValueError, TypeError):\n",
    "    # the categories and ordered arguments were removed in pandas 0.25\n",
    "    tracks['set', 'subset'] = tracks['set', 'subset'].astype(\n",
    "              pd.CategoricalDtype(categories=SUBSETS, ordered=True))\n",
    "\n",
    "COLUMNS = [('track', 'genre_top'), ('track', 'license'),\n",
    "            ('album', 'type'), ('album', 'information'),\n",
    "            ('artist', 'bio')]\n",
    "for column in COLUMNS:\n",
    "    tracks[column] = tracks[column].astype('category')\n",
    "\n",
    "\n",
    "tracks.shape"
   ]
  },
  {
   "cell_type": "markdown",
   "metadata": {},
   "source": [
    "## Popularity measure"
   ]
  },
  {
   "cell_type": "code",
   "execution_count": 3,
   "metadata": {},
   "outputs": [],
   "source": [
    "def log_transform(serie):\n",
    "    return np.log((serie)+1)"
   ]
  },
  {
   "cell_type": "code",
   "execution_count": 4,
   "metadata": {},
   "outputs": [],
   "source": [
    "POP_FEATURES = [\"listens\", \"favorites\", \"comments\"]"
   ]
  },
  {
   "cell_type": "code",
   "execution_count": 5,
   "metadata": {},
   "outputs": [
    {
     "data": {
      "text/html": [
       "<div>\n",
       "<style scoped>\n",
       "    .dataframe tbody tr th:only-of-type {\n",
       "        vertical-align: middle;\n",
       "    }\n",
       "\n",
       "    .dataframe tbody tr th {\n",
       "        vertical-align: top;\n",
       "    }\n",
       "\n",
       "    .dataframe thead th {\n",
       "        text-align: right;\n",
       "    }\n",
       "</style>\n",
       "<table border=\"1\" class=\"dataframe\">\n",
       "  <thead>\n",
       "    <tr style=\"text-align: right;\">\n",
       "      <th></th>\n",
       "      <th>date_created</th>\n",
       "      <th>genre_top</th>\n",
       "      <th>listens</th>\n",
       "      <th>favorites</th>\n",
       "      <th>comments</th>\n",
       "      <th>album_listens</th>\n",
       "      <th>album_favorites</th>\n",
       "      <th>album_comments</th>\n",
       "    </tr>\n",
       "    <tr>\n",
       "      <th>track_id</th>\n",
       "      <th></th>\n",
       "      <th></th>\n",
       "      <th></th>\n",
       "      <th></th>\n",
       "      <th></th>\n",
       "      <th></th>\n",
       "      <th></th>\n",
       "      <th></th>\n",
       "    </tr>\n",
       "  </thead>\n",
       "  <tbody>\n",
       "    <tr>\n",
       "      <th>13996</th>\n",
       "      <td>2009-05-27 13:15:10</td>\n",
       "      <td>NaN</td>\n",
       "      <td>1047</td>\n",
       "      <td>1</td>\n",
       "      <td>0</td>\n",
       "      <td>6930</td>\n",
       "      <td>1</td>\n",
       "      <td>0</td>\n",
       "    </tr>\n",
       "    <tr>\n",
       "      <th>137631</th>\n",
       "      <td>2016-05-21 06:04:49</td>\n",
       "      <td>Rock</td>\n",
       "      <td>2883</td>\n",
       "      <td>2</td>\n",
       "      <td>0</td>\n",
       "      <td>18069</td>\n",
       "      <td>1</td>\n",
       "      <td>0</td>\n",
       "    </tr>\n",
       "    <tr>\n",
       "      <th>133977</th>\n",
       "      <td>2016-03-11 13:33:57</td>\n",
       "      <td>Instrumental</td>\n",
       "      <td>7253</td>\n",
       "      <td>10</td>\n",
       "      <td>0</td>\n",
       "      <td>75573</td>\n",
       "      <td>3</td>\n",
       "      <td>1</td>\n",
       "    </tr>\n",
       "  </tbody>\n",
       "</table>\n",
       "</div>"
      ],
      "text/plain": [
       "                date_created     genre_top  listens  favorites  comments  \\\n",
       "track_id                                                                   \n",
       "13996    2009-05-27 13:15:10           NaN     1047          1         0   \n",
       "137631   2016-05-21 06:04:49          Rock     2883          2         0   \n",
       "133977   2016-03-11 13:33:57  Instrumental     7253         10         0   \n",
       "\n",
       "          album_listens  album_favorites  album_comments  \n",
       "track_id                                                  \n",
       "13996              6930                1               0  \n",
       "137631            18069                1               0  \n",
       "133977            75573                3               1  "
      ]
     },
     "execution_count": 5,
     "metadata": {},
     "output_type": "execute_result"
    }
   ],
   "source": [
    "pop_df = tracks[\"track\"][[\"date_created\", \"genre_top\"]+POP_FEATURES]\n",
    "\n",
    "# add informations collected at the \"album level\"\n",
    "for pop_feat in POP_FEATURES:\n",
    "    pop_df[\"album_\"+pop_feat] = [count for count in tracks[\"album\"][pop_feat]]\n",
    "\n",
    "pop_df.sample(3)"
   ]
  },
  {
   "cell_type": "markdown",
   "metadata": {},
   "source": [
    "### Not removing songs without album"
   ]
  },
  {
   "cell_type": "code",
   "execution_count": 6,
   "metadata": {},
   "outputs": [],
   "source": [
    "# add informations collected at the \"album level\"\n",
    "for pop_feat in POP_FEATURES:\n",
    "    # 0 instead of default value -1\n",
    "    pop_df[\"album_\"+pop_feat] = [count if count > 0 else 0\n",
    "                                 for count in tracks[\"album\"][pop_feat]]"
   ]
  },
  {
   "cell_type": "code",
   "execution_count": 7,
   "metadata": {},
   "outputs": [],
   "source": [
    "# without `interest` but with album scores\n",
    "X = pop_df[POP_FEATURES+[\"album_\"+pop_feat for pop_feat in POP_FEATURES]].copy()\n",
    "\n",
    "for pop_feat in X.columns:\n",
    "    # using log transform for the pca\n",
    "    X[pop_feat] = log_transform(X[pop_feat])\n",
    "\n",
    "pca = PCA(n_components=1, svd_solver=\"full\").fit(X)\n",
    "#computing popularity score as a 1D projection of the popularity features\n",
    "pop_df[\"pop_score\"] = pca.transform(X) "
   ]
  },
  {
   "cell_type": "code",
   "execution_count": 8,
   "metadata": {},
   "outputs": [
    {
     "data": {
      "image/png": "[encoded data removed]",
      "text/plain": [
       "<Figure size 1224x360 with 1 Axes>"
      ]
     },
     "metadata": {
      "needs_background": "light"
     },
     "output_type": "display_data"
    }
   ],
   "source": [
    "plt.bar(X.columns\n",
    "        , (pca.components_)[0]\n",
    "       )\n",
    "plt.show()\n",
    "# negative coefficients => min pop score = higher popularity (can be inverted)"
   ]
  },
  {
   "cell_type": "code",
   "execution_count": 9,
   "metadata": {},
   "outputs": [
    {
     "name": "stderr",
     "output_type": "stream",
     "text": [
      "/Users/nmm/opt/anaconda3/lib/python3.8/site-packages/scipy/stats/morestats.py:1681: UserWarning: p-value may not be accurate for N > 5000.\n",
      "  warnings.warn(\"p-value may not be accurate for N > 5000.\")\n"
     ]
    },
    {
     "data": {
      "image/png": "[encoded data removed]",
      "text/plain": [
       "<Figure size 1224x360 with 1 Axes>"
      ]
     },
     "metadata": {
      "needs_background": "light"
     },
     "output_type": "display_data"
    }
   ],
   "source": [
    "W, p_val = shapiro(pop_df.pop_score)\n",
    "\n",
    "plt.hist(pop_df.pop_score, bins=100, label=r\"$W_{Shapiro-Wilk}\"+\"={0:.3f}$\".format(W))\n",
    "plt.legend(fontsize=12)\n",
    "plt.show()\n",
    "# second small peak that i think comes from songs without album informations"
   ]
  },
  {
   "cell_type": "code",
   "execution_count": 10,
   "metadata": {},
   "outputs": [
    {
     "data": {
      "text/html": [
       "<div>\n",
       "<style scoped>\n",
       "    .dataframe tbody tr th:only-of-type {\n",
       "        vertical-align: middle;\n",
       "    }\n",
       "\n",
       "    .dataframe tbody tr th {\n",
       "        vertical-align: top;\n",
       "    }\n",
       "\n",
       "    .dataframe thead th {\n",
       "        text-align: right;\n",
       "    }\n",
       "</style>\n",
       "<table border=\"1\" class=\"dataframe\">\n",
       "  <thead>\n",
       "    <tr style=\"text-align: right;\">\n",
       "      <th></th>\n",
       "      <th>date_created</th>\n",
       "      <th>genre_top</th>\n",
       "      <th>listens</th>\n",
       "      <th>favorites</th>\n",
       "      <th>comments</th>\n",
       "      <th>album_listens</th>\n",
       "      <th>album_favorites</th>\n",
       "      <th>album_comments</th>\n",
       "      <th>pop_score</th>\n",
       "    </tr>\n",
       "    <tr>\n",
       "      <th>track_id</th>\n",
       "      <th></th>\n",
       "      <th></th>\n",
       "      <th></th>\n",
       "      <th></th>\n",
       "      <th></th>\n",
       "      <th></th>\n",
       "      <th></th>\n",
       "      <th></th>\n",
       "      <th></th>\n",
       "    </tr>\n",
       "  </thead>\n",
       "  <tbody>\n",
       "    <tr>\n",
       "      <th>35342</th>\n",
       "      <td>2010-09-08 21:28:45</td>\n",
       "      <td>Electronic</td>\n",
       "      <td>619</td>\n",
       "      <td>3</td>\n",
       "      <td>0</td>\n",
       "      <td>4956</td>\n",
       "      <td>1</td>\n",
       "      <td>0</td>\n",
       "      <td>0.302781</td>\n",
       "    </tr>\n",
       "    <tr>\n",
       "      <th>121736</th>\n",
       "      <td>2015-06-22 15:33:41</td>\n",
       "      <td>Pop</td>\n",
       "      <td>2402</td>\n",
       "      <td>4</td>\n",
       "      <td>0</td>\n",
       "      <td>19991</td>\n",
       "      <td>2</td>\n",
       "      <td>0</td>\n",
       "      <td>-1.575789</td>\n",
       "    </tr>\n",
       "    <tr>\n",
       "      <th>22150</th>\n",
       "      <td>2009-12-14 12:21:03</td>\n",
       "      <td>Experimental</td>\n",
       "      <td>2067</td>\n",
       "      <td>0</td>\n",
       "      <td>0</td>\n",
       "      <td>3110</td>\n",
       "      <td>0</td>\n",
       "      <td>0</td>\n",
       "      <td>0.604323</td>\n",
       "    </tr>\n",
       "  </tbody>\n",
       "</table>\n",
       "</div>"
      ],
      "text/plain": [
       "                date_created     genre_top  listens  favorites  comments  \\\n",
       "track_id                                                                   \n",
       "35342    2010-09-08 21:28:45    Electronic      619          3         0   \n",
       "121736   2015-06-22 15:33:41           Pop     2402          4         0   \n",
       "22150    2009-12-14 12:21:03  Experimental     2067          0         0   \n",
       "\n",
       "          album_listens  album_favorites  album_comments  pop_score  \n",
       "track_id                                                             \n",
       "35342              4956                1               0   0.302781  \n",
       "121736            19991                2               0  -1.575789  \n",
       "22150              3110                0               0   0.604323  "
      ]
     },
     "execution_count": 10,
     "metadata": {},
     "output_type": "execute_result"
    }
   ],
   "source": [
    "pop_df.sample(3)"
   ]
  },
  {
   "cell_type": "markdown",
   "metadata": {},
   "source": [
    "### Removing songs without album"
   ]
  },
  {
   "cell_type": "code",
   "execution_count": 18,
   "metadata": {},
   "outputs": [],
   "source": [
    "# add informations collected at the \"album level\"\n",
    "for pop_feat in POP_FEATURES:\n",
    "    pop_df[\"album_\"+pop_feat] = [count for count in tracks[\"album\"][pop_feat]]"
   ]
  },
  {
   "cell_type": "code",
   "execution_count": 19,
   "metadata": {},
   "outputs": [
    {
     "name": "stdout",
     "output_type": "stream",
     "text": [
      "3.31% songs have no album.\n"
     ]
    }
   ],
   "source": [
    "no_album = pop_df.album_listens < 0\n",
    "print(\"{0:.2f}% songs have no album.\".format(100*np.sum(no_album)/len(pop_df)))"
   ]
  },
  {
   "cell_type": "code",
   "execution_count": 20,
   "metadata": {},
   "outputs": [
    {
     "data": {
      "text/plain": [
       "(103045, 9)"
      ]
     },
     "execution_count": 20,
     "metadata": {},
     "output_type": "execute_result"
    }
   ],
   "source": [
    "# keeping only songs with album informations\n",
    "pop_df = pop_df[~no_album].copy()\n",
    "pop_df.shape"
   ]
  },
  {
   "cell_type": "code",
   "execution_count": 21,
   "metadata": {},
   "outputs": [],
   "source": [
    "# without `interest` but with album scores\n",
    "X = pop_df[POP_FEATURES+[\"album_\"+pop_feat for pop_feat in POP_FEATURES]].copy()\n",
    "\n",
    "for pop_feat in X.columns:\n",
    "    # using log transform for the pca\n",
    "    X[pop_feat] = log_transform(X[pop_feat])\n",
    "\n",
    "pca = PCA(n_components=1, svd_solver=\"full\").fit(X)\n",
    "#computing popularity score as a 1D projection of the popularity features\n",
    "pop_df[\"pop_score\"] = pca.transform(X) "
   ]
  },
  {
   "cell_type": "code",
   "execution_count": 22,
   "metadata": {},
   "outputs": [
    {
     "data": {
      "image/png": "[encoded data removed]",
      "text/plain": [
       "<Figure size 1224x360 with 1 Axes>"
      ]
     },
     "metadata": {
      "needs_background": "light"
     },
     "output_type": "display_data"
    }
   ],
   "source": [
    "plt.bar(X.columns\n",
    "        , (pca.components_)[0]\n",
    "       )\n",
    "plt.show()"
   ]
  },
  {
   "cell_type": "code",
   "execution_count": 23,
   "metadata": {},
   "outputs": [
    {
     "name": "stderr",
     "output_type": "stream",
     "text": [
      "/Users/nmm/opt/anaconda3/lib/python3.8/site-packages/scipy/stats/morestats.py:1681: UserWarning: p-value may not be accurate for N > 5000.\n",
      "  warnings.warn(\"p-value may not be accurate for N > 5000.\")\n"
     ]
    },
    {
     "data": {
      "image/png": "[encoded data removed]",
      "text/plain": [
       "<Figure size 1224x360 with 1 Axes>"
      ]
     },
     "metadata": {
      "needs_background": "light"
     },
     "output_type": "display_data"
    }
   ],
   "source": [
    "W, p_val = shapiro(pop_df.pop_score)\n",
    "\n",
    "plt.hist(pop_df.pop_score, bins=100, label=r\"$W_{Shapiro-Wilk}\"+\"={0:.3f}$\".format(W))\n",
    "plt.legend(fontsize=12)\n",
    "plt.show()"
   ]
  },
  {
   "cell_type": "code",
   "execution_count": 24,
   "metadata": {},
   "outputs": [],
   "source": [
    "# as the distribution is ~ normal (shapiro close to 1), standardize the score (z-score normalization)\n",
    "pop_df[\"pop_score\"] = (pop_df[\"pop_score\"]-np.mean(pop_df[\"pop_score\"]))/(np.std(pop_df[\"pop_score\"]))"
   ]
  },
  {
   "cell_type": "code",
   "execution_count": 25,
   "metadata": {},
   "outputs": [
    {
     "data": {
      "text/html": [
       "<div>\n",
       "<style scoped>\n",
       "    .dataframe tbody tr th:only-of-type {\n",
       "        vertical-align: middle;\n",
       "    }\n",
       "\n",
       "    .dataframe tbody tr th {\n",
       "        vertical-align: top;\n",
       "    }\n",
       "\n",
       "    .dataframe thead th {\n",
       "        text-align: right;\n",
       "    }\n",
       "</style>\n",
       "<table border=\"1\" class=\"dataframe\">\n",
       "  <thead>\n",
       "    <tr style=\"text-align: right;\">\n",
       "      <th></th>\n",
       "      <th>date_created</th>\n",
       "      <th>genre_top</th>\n",
       "      <th>listens</th>\n",
       "      <th>favorites</th>\n",
       "      <th>comments</th>\n",
       "      <th>album_listens</th>\n",
       "      <th>album_favorites</th>\n",
       "      <th>album_comments</th>\n",
       "      <th>pop_score</th>\n",
       "    </tr>\n",
       "    <tr>\n",
       "      <th>track_id</th>\n",
       "      <th></th>\n",
       "      <th></th>\n",
       "      <th></th>\n",
       "      <th></th>\n",
       "      <th></th>\n",
       "      <th></th>\n",
       "      <th></th>\n",
       "      <th></th>\n",
       "      <th></th>\n",
       "    </tr>\n",
       "  </thead>\n",
       "  <tbody>\n",
       "    <tr>\n",
       "      <th>112966</th>\n",
       "      <td>2015-01-03 11:56:51</td>\n",
       "      <td>NaN</td>\n",
       "      <td>6071</td>\n",
       "      <td>6</td>\n",
       "      <td>0</td>\n",
       "      <td>21321</td>\n",
       "      <td>0</td>\n",
       "      <td>0</td>\n",
       "      <td>1.046554</td>\n",
       "    </tr>\n",
       "    <tr>\n",
       "      <th>29481</th>\n",
       "      <td>2010-05-03 07:35:06</td>\n",
       "      <td>NaN</td>\n",
       "      <td>424</td>\n",
       "      <td>0</td>\n",
       "      <td>0</td>\n",
       "      <td>9891</td>\n",
       "      <td>0</td>\n",
       "      <td>0</td>\n",
       "      <td>-0.398904</td>\n",
       "    </tr>\n",
       "    <tr>\n",
       "      <th>1982</th>\n",
       "      <td>2008-11-26 03:16:59</td>\n",
       "      <td>Experimental</td>\n",
       "      <td>106</td>\n",
       "      <td>0</td>\n",
       "      <td>0</td>\n",
       "      <td>606</td>\n",
       "      <td>1</td>\n",
       "      <td>0</td>\n",
       "      <td>-1.684165</td>\n",
       "    </tr>\n",
       "  </tbody>\n",
       "</table>\n",
       "</div>"
      ],
      "text/plain": [
       "                date_created     genre_top  listens  favorites  comments  \\\n",
       "track_id                                                                   \n",
       "112966   2015-01-03 11:56:51           NaN     6071          6         0   \n",
       "29481    2010-05-03 07:35:06           NaN      424          0         0   \n",
       "1982     2008-11-26 03:16:59  Experimental      106          0         0   \n",
       "\n",
       "          album_listens  album_favorites  album_comments  pop_score  \n",
       "track_id                                                             \n",
       "112966            21321                0               0   1.046554  \n",
       "29481              9891                0               0  -0.398904  \n",
       "1982                606                1               0  -1.684165  "
      ]
     },
     "execution_count": 25,
     "metadata": {},
     "output_type": "execute_result"
    }
   ],
   "source": [
    "pop_df.sample(3)"
   ]
  },
  {
   "cell_type": "code",
   "execution_count": null,
   "metadata": {},
   "outputs": [],
   "source": []
  }
 ],
 "metadata": {
  "kernelspec": {
   "display_name": "Python 3",
   "language": "python",
   "name": "python3"
  },
  "language_info": {
   "codemirror_mode": {
    "name": "ipython",
    "version": 3
   },
   "file_extension": ".py",
   "mimetype": "text/x-python",
   "name": "python",
   "nbconvert_exporter": "python",
   "pygments_lexer": "ipython3",
   "version": "3.8.5"
  }
 },
 "nbformat": 4,
 "nbformat_minor": 4
}
